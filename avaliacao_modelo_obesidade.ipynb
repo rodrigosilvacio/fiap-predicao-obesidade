{
 "cells": [
  {
   "cell_type": "markdown",
   "id": "68505839",
   "metadata": {},
   "source": [
    "# 📊 Avaliação do Modelo - Predição de Obesidade"
   ]
  },
  {
   "cell_type": "code",
   "execution_count": null,
   "id": "ed95b54f",
   "metadata": {},
   "outputs": [],
   "source": [
    "\n",
    "import pandas as pd\n",
    "from sklearn.model_selection import train_test_split\n",
    "from sklearn.preprocessing import StandardScaler, OneHotEncoder\n",
    "from sklearn.compose import ColumnTransformer\n",
    "from sklearn.pipeline import Pipeline\n",
    "from sklearn.ensemble import RandomForestClassifier\n",
    "from sklearn.metrics import accuracy_score\n"
   ]
  },
  {
   "cell_type": "code",
   "execution_count": null,
   "id": "260c929f",
   "metadata": {},
   "outputs": [],
   "source": [
    "\n",
    "# Carregar a base\n",
    "df = pd.read_csv(\"Obesity.csv\")\n",
    "X = df.drop(columns=[\"Obesity\"])\n",
    "y = df[\"Obesity\"]\n",
    "\n",
    "# Divisão treino/teste\n",
    "X_train, X_test, y_train, y_test = train_test_split(\n",
    "    X, y, test_size=0.2, stratify=y, random_state=42\n",
    ")\n",
    "\n",
    "# Definindo colunas\n",
    "numeric_features = [\"Age\", \"Height\", \"Weight\", \"FCVC\", \"NCP\", \"CH2O\", \"FAF\", \"TUE\"]\n",
    "categorical_features = [\"Gender\", \"family_history\", \"FAVC\", \"CAEC\", \"SMOKE\", \"SCC\", \"CALC\", \"MTRANS\"]\n"
   ]
  },
  {
   "cell_type": "code",
   "execution_count": null,
   "id": "cba9d8b5",
   "metadata": {},
   "outputs": [],
   "source": [
    "\n",
    "# Criando pipeline\n",
    "numeric_transformer = StandardScaler()\n",
    "categorical_transformer = OneHotEncoder(drop='first', handle_unknown='ignore')\n",
    "\n",
    "preprocessor = ColumnTransformer(transformers=[\n",
    "    (\"num\", numeric_transformer, numeric_features),\n",
    "    (\"cat\", categorical_transformer, categorical_features)\n",
    "])\n",
    "\n",
    "pipeline = Pipeline(steps=[\n",
    "    (\"preprocessor\", preprocessor),\n",
    "    (\"classifier\", RandomForestClassifier(random_state=42))\n",
    "])\n",
    "\n",
    "# Treinamento\n",
    "pipeline.fit(X_train, y_train)\n"
   ]
  },
  {
   "cell_type": "code",
   "execution_count": null,
   "id": "0ecb7852",
   "metadata": {},
   "outputs": [],
   "source": [
    "\n",
    "# Avaliação\n",
    "y_pred = pipeline.predict(X_test)\n",
    "acc = accuracy_score(y_test, y_pred)\n",
    "print(f\"Acurácia do modelo: {acc:.2%}\")\n"
   ]
  }
 ],
 "metadata": {},
 "nbformat": 4,
 "nbformat_minor": 5
}
